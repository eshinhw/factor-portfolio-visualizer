{
 "cells": [
  {
   "cell_type": "code",
   "execution_count": 3,
   "id": "d123f5c2",
   "metadata": {},
   "outputs": [],
   "source": [
    "import pandas as pd\n",
    "import numpy as np\n",
    "import pandas_datareader.data as web"
   ]
  },
  {
   "cell_type": "code",
   "execution_count": 5,
   "id": "81790f62",
   "metadata": {},
   "outputs": [],
   "source": [
    "QUINTILES = [\"Lo 20\", \"Qnt 2\", \"Qnt 3\", \"Qnt 4\", \"Hi 20\"]"
   ]
  },
  {
   "cell_type": "code",
   "execution_count": 36,
   "id": "c0b5b994",
   "metadata": {},
   "outputs": [],
   "source": [
    "def pbr_factor_stat():\n",
    "\n",
    "    data = {}\n",
    "\n",
    "    monthly_ret = web.DataReader(\"Portfolios_Formed_on_BE-ME\", \"famafrench\", start=\"1900-01-01\")[0][QUINTILES]\n",
    "    n = len(monthly_ret)\n",
    "    ret_ari = ((monthly_ret / 100).mean(axis=0) * 12)\n",
    "    ret_geo = (1 + monthly_ret / 100).prod() ** (12 / n) - 1\n",
    "    vol = (monthly_ret / 100).std(axis=0) * np.sqrt(12)\n",
    "    sharpe = ret_ari / vol\n",
    "        \n",
    "    data['Arithmetic Mean'] = list(ret_ari.values)\n",
    "    data['Geometric Mean'] = list(ret_geo.values)\n",
    "    data['Annualized Volatility'] = list(vol)\n",
    "    data['Sharpe Ratio'] = list(sharpe)\n",
    "    \n",
    "    stat = pd.DataFrame(data, index=QUINTILES)\n",
    "\n",
    "    return stat"
   ]
  },
  {
   "cell_type": "code",
   "execution_count": 39,
   "id": "d106c012",
   "metadata": {},
   "outputs": [],
   "source": [
    "stat = pbr_factor_stat()"
   ]
  },
  {
   "cell_type": "code",
   "execution_count": 41,
   "id": "ec53a0a0",
   "metadata": {},
   "outputs": [
    {
     "data": {
      "text/html": [
       "<div>\n",
       "<style scoped>\n",
       "    .dataframe tbody tr th:only-of-type {\n",
       "        vertical-align: middle;\n",
       "    }\n",
       "\n",
       "    .dataframe tbody tr th {\n",
       "        vertical-align: top;\n",
       "    }\n",
       "\n",
       "    .dataframe thead th {\n",
       "        text-align: right;\n",
       "    }\n",
       "</style>\n",
       "<table border=\"1\" class=\"dataframe\">\n",
       "  <thead>\n",
       "    <tr style=\"text-align: right;\">\n",
       "      <th></th>\n",
       "      <th>Arithmetic Mean</th>\n",
       "      <th>Geometric Mean</th>\n",
       "      <th>Annualized Volatility</th>\n",
       "      <th>Sharpe Ratio</th>\n",
       "    </tr>\n",
       "  </thead>\n",
       "  <tbody>\n",
       "    <tr>\n",
       "      <th>Qnt 2</th>\n",
       "      <td>0.1115</td>\n",
       "      <td>0.0985</td>\n",
       "      <td>0.1858</td>\n",
       "      <td>0.5999</td>\n",
       "    </tr>\n",
       "    <tr>\n",
       "      <th>Qnt 3</th>\n",
       "      <td>0.1218</td>\n",
       "      <td>0.1082</td>\n",
       "      <td>0.1950</td>\n",
       "      <td>0.6243</td>\n",
       "    </tr>\n",
       "    <tr>\n",
       "      <th>Qnt 4</th>\n",
       "      <td>0.1269</td>\n",
       "      <td>0.1079</td>\n",
       "      <td>0.2236</td>\n",
       "      <td>0.5676</td>\n",
       "    </tr>\n",
       "    <tr>\n",
       "      <th>Hi 20</th>\n",
       "      <td>0.1575</td>\n",
       "      <td>0.1283</td>\n",
       "      <td>0.2774</td>\n",
       "      <td>0.5676</td>\n",
       "    </tr>\n",
       "  </tbody>\n",
       "</table>\n",
       "</div>"
      ],
      "text/plain": [
       "       Arithmetic Mean  Geometric Mean  Annualized Volatility  Sharpe Ratio\n",
       "Qnt 2           0.1115          0.0985                 0.1858        0.5999\n",
       "Qnt 3           0.1218          0.1082                 0.1950        0.6243\n",
       "Qnt 4           0.1269          0.1079                 0.2236        0.5676\n",
       "Hi 20           0.1575          0.1283                 0.2774        0.5676"
      ]
     },
     "execution_count": 41,
     "metadata": {},
     "output_type": "execute_result"
    }
   ],
   "source": [
    "stat.iloc[1:].round(4)"
   ]
  },
  {
   "cell_type": "code",
   "execution_count": null,
   "id": "600c85e2",
   "metadata": {},
   "outputs": [],
   "source": []
  }
 ],
 "metadata": {
  "kernelspec": {
   "display_name": "Python 3 (ipykernel)",
   "language": "python",
   "name": "python3"
  },
  "language_info": {
   "codemirror_mode": {
    "name": "ipython",
    "version": 3
   },
   "file_extension": ".py",
   "mimetype": "text/x-python",
   "name": "python",
   "nbconvert_exporter": "python",
   "pygments_lexer": "ipython3",
   "version": "3.9.16"
  }
 },
 "nbformat": 4,
 "nbformat_minor": 5
}
